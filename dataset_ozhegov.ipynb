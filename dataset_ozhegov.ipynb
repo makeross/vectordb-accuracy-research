{
 "cells": [
  {
   "cell_type": "code",
   "execution_count": 4,
   "metadata": {},
   "outputs": [],
   "source": [
    "with open(\"ozhegov.txt\", mode=\"r\", encoding=\"UTF-8\") as file:\n",
    "    text_lines = file.readlines()"
   ]
  },
  {
   "cell_type": "code",
   "execution_count": 6,
   "metadata": {},
   "outputs": [],
   "source": [
    "import re\n",
    "def return_first_match(pattern, text):\n",
    "    result = re.findall(pattern,text)\n",
    "    result = result[0] if result else \"\"\n",
    "    return result"
   ]
  },
  {
   "cell_type": "code",
   "execution_count": 10,
   "metadata": {},
   "outputs": [
    {
     "data": {
      "text/html": [
       "<div>\n",
       "<style scoped>\n",
       "    .dataframe tbody tr th:only-of-type {\n",
       "        vertical-align: middle;\n",
       "    }\n",
       "\n",
       "    .dataframe tbody tr th {\n",
       "        vertical-align: top;\n",
       "    }\n",
       "\n",
       "    .dataframe thead th {\n",
       "        text-align: right;\n",
       "    }\n",
       "</style>\n",
       "<table border=\"1\" class=\"dataframe\">\n",
       "  <thead>\n",
       "    <tr style=\"text-align: right;\">\n",
       "      <th></th>\n",
       "      <th>title</th>\n",
       "      <th>text</th>\n",
       "    </tr>\n",
       "  </thead>\n",
       "  <tbody>\n",
       "    <tr>\n",
       "      <th>0</th>\n",
       "      <td>АБАЖУР</td>\n",
       "      <td>Колпак для лампы, светильника. Зеленый а. 11 п...</td>\n",
       "    </tr>\n",
       "    <tr>\n",
       "      <th>1</th>\n",
       "      <td>АБАЗИНСКИЙ</td>\n",
       "      <td>Относящийся к абазинам, к их языку, национальн...</td>\n",
       "    </tr>\n",
       "    <tr>\n",
       "      <th>2</th>\n",
       "      <td>АБАЗИНЫ</td>\n",
       "      <td>Народ, живущий в Карачаево-Черкесии и в Адыгее...</td>\n",
       "    </tr>\n",
       "    <tr>\n",
       "      <th>3</th>\n",
       "      <td>АББАТ</td>\n",
       "      <td>Настоятель мужского католического монастыря. 2...</td>\n",
       "    </tr>\n",
       "    <tr>\n",
       "      <th>4</th>\n",
       "      <td>АББАТСТВО</td>\n",
       "      <td>Католический монастырь.</td>\n",
       "    </tr>\n",
       "  </tbody>\n",
       "</table>\n",
       "</div>"
      ],
      "text/plain": [
       "        title                                               text\n",
       "0      АБАЖУР  Колпак для лампы, светильника. Зеленый а. 11 п...\n",
       "1  АБАЗИНСКИЙ  Относящийся к абазинам, к их языку, национальн...\n",
       "2     АБАЗИНЫ  Народ, живущий в Карачаево-Черкесии и в Адыгее...\n",
       "3       АББАТ  Настоятель мужского католического монастыря. 2...\n",
       "4   АББАТСТВО                           Католический монастырь. "
      ]
     },
     "execution_count": 10,
     "metadata": {},
     "output_type": "execute_result"
    }
   ],
   "source": [
    "import pandas as pd\n",
    "\n",
    "\n",
    "data = []\n",
    "\n",
    "for line in text_lines:\n",
    "\n",
    "    title = return_first_match(r\"^[а-яА-Я]{2,}(?=,)\", line)\n",
    "    text = return_first_match(r\"\\.\\s([А-Я]+.*)\\n\", line)\n",
    "\n",
    "    if(len(title) > 3):\n",
    "        data.append(\n",
    "            {\n",
    "                \"title\": title,\n",
    "                \"text\" : text\n",
    "            })\n",
    "\n",
    "dataset = pd.DataFrame(data)\n",
    "dataset.head()"
   ]
  },
  {
   "cell_type": "code",
   "execution_count": 12,
   "metadata": {},
   "outputs": [],
   "source": [
    "len(dataset)\n",
    "dataset.to_csv('ozhegov_dataset.csv')"
   ]
  }
 ],
 "metadata": {
  "kernelspec": {
   "display_name": "Python 3",
   "language": "python",
   "name": "python3"
  },
  "language_info": {
   "codemirror_mode": {
    "name": "ipython",
    "version": 3
   },
   "file_extension": ".py",
   "mimetype": "text/x-python",
   "name": "python",
   "nbconvert_exporter": "python",
   "pygments_lexer": "ipython3",
   "version": "3.11.9"
  }
 },
 "nbformat": 4,
 "nbformat_minor": 2
}
